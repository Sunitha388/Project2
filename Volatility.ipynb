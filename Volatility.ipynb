{
 "cells": [
  {
   "cell_type": "code",
   "execution_count": 1,
   "id": "33e506de",
   "metadata": {},
   "outputs": [
    {
     "name": "stdout",
     "output_type": "stream",
     "text": [
      "Note: you may need to restart the kernel to use updated packages.Requirement already satisfied: pandas in c:\\users\\lenovo\\appdata\\local\\programs\\python\\python312\\lib\\site-packages (2.2.3)\n",
      "Requirement already satisfied: matplotlib in c:\\users\\lenovo\\appdata\\local\\programs\\python\\python312\\lib\\site-packages (3.10.1)\n",
      "Requirement already satisfied: seaborn in c:\\users\\lenovo\\appdata\\local\\programs\\python\\python312\\lib\\site-packages (0.13.2)\n",
      "Requirement already satisfied: numpy>=1.26.0 in c:\\users\\lenovo\\appdata\\local\\programs\\python\\python312\\lib\\site-packages (from pandas) (2.2.4)\n",
      "Requirement already satisfied: python-dateutil>=2.8.2 in c:\\users\\lenovo\\appdata\\roaming\\python\\python312\\site-packages (from pandas) (2.9.0.post0)\n",
      "Requirement already satisfied: pytz>=2020.1 in c:\\users\\lenovo\\appdata\\local\\programs\\python\\python312\\lib\\site-packages (from pandas) (2025.1)\n",
      "Requirement already satisfied: tzdata>=2022.7 in c:\\users\\lenovo\\appdata\\local\\programs\\python\\python312\\lib\\site-packages (from pandas) (2025.1)\n",
      "Requirement already satisfied: contourpy>=1.0.1 in c:\\users\\lenovo\\appdata\\local\\programs\\python\\python312\\lib\\site-packages (from matplotlib) (1.3.1)\n",
      "Requirement already satisfied: cycler>=0.10 in c:\\users\\lenovo\\appdata\\local\\programs\\python\\python312\\lib\\site-packages (from matplotlib) (0.12.1)\n",
      "Requirement already satisfied: fonttools>=4.22.0 in c:\\users\\lenovo\\appdata\\local\\programs\\python\\python312\\lib\\site-packages (from matplotlib) (4.56.0)\n",
      "Requirement already satisfied: kiwisolver>=1.3.1 in c:\\users\\lenovo\\appdata\\local\\programs\\python\\python312\\lib\\site-packages (from matplotlib) (1.4.8)\n",
      "Requirement already satisfied: packaging>=20.0 in c:\\users\\lenovo\\appdata\\roaming\\python\\python312\\site-packages (from matplotlib) (24.2)\n",
      "Requirement already satisfied: pillow>=8 in c:\\users\\lenovo\\appdata\\local\\programs\\python\\python312\\lib\\site-packages (from matplotlib) (11.1.0)\n",
      "Requirement already satisfied: pyparsing>=2.3.1 in c:\\users\\lenovo\\appdata\\local\\programs\\python\\python312\\lib\\site-packages (from matplotlib) (3.2.3)\n",
      "Requirement already satisfied: six>=1.5 in c:\\users\\lenovo\\appdata\\roaming\\python\\python312\\site-packages (from python-dateutil>=2.8.2->pandas) (1.17.0)\n",
      "\n"
     ]
    },
    {
     "name": "stderr",
     "output_type": "stream",
     "text": [
      "\n",
      "[notice] A new release of pip is available: 24.3.1 -> 25.1.1\n",
      "[notice] To update, run: python.exe -m pip install --upgrade pip\n"
     ]
    }
   ],
   "source": [
    "pip install pandas matplotlib seaborn"
   ]
  },
  {
   "cell_type": "code",
   "execution_count": 1,
   "id": "b33a8a98",
   "metadata": {},
   "outputs": [
    {
     "name": "stdout",
     "output_type": "stream",
     "text": [
      "       Ticker    close                 date    high      low    month    open  \\\n",
      "0        SBIN   602.95  2023-10-03 05:30:00   604.9   589.60  2023-10   596.6   \n",
      "1  BAJFINANCE  7967.60  2023-10-03 05:30:00  7975.5  7755.00  2023-10  7780.8   \n",
      "2       TITAN  3196.25  2023-10-03 05:30:00  3212.5  3114.40  2023-10  3148.8   \n",
      "3         ITC   439.75  2023-10-03 05:30:00   442.9   439.25  2023-10   441.0   \n",
      "4         TCS  3513.85  2023-10-03 05:30:00  3534.2  3480.10  2023-10  3534.2   \n",
      "\n",
      "     volume  \n",
      "0  15322196  \n",
      "1    944555  \n",
      "2   1007308  \n",
      "3   7481883  \n",
      "4   1948148  \n"
     ]
    }
   ],
   "source": [
    "import pandas as pd\n",
    "\n",
    "df = pd.read_csv(r'C:\\Users\\LENOVO\\Desktop\\Newfolder\\project2\\output\\all_stocks.csv')\n",
    "print(df.head())"
   ]
  },
  {
   "cell_type": "code",
   "execution_count": 2,
   "id": "4fe75c9c",
   "metadata": {},
   "outputs": [
    {
     "name": "stdout",
     "output_type": "stream",
     "text": [
      "0   2023-10-03 05:30:00\n",
      "1   2023-10-03 05:30:00\n",
      "2   2023-10-03 05:30:00\n",
      "3   2023-10-03 05:30:00\n",
      "4   2023-10-03 05:30:00\n",
      "Name: date, dtype: datetime64[ns]\n"
     ]
    }
   ],
   "source": [
    "df['date'] = pd.to_datetime(df['date']) # Convert to datetime\n",
    "print(df['date'].head())\n",
    "\n",
    "\n",
    "df = df.sort_values(by=['Ticker', 'date'])  # Sort for correct calculations\n"
   ]
  },
  {
   "cell_type": "code",
   "execution_count": 3,
   "id": "4f615cc6",
   "metadata": {},
   "outputs": [
    {
     "name": "stdout",
     "output_type": "stream",
     "text": [
      "       Ticker                date    close  prev_close  daily_return\n",
      "24   ADANIENT 2023-10-03 05:30:00  2387.25         NaN           NaN\n",
      "74   ADANIENT 2023-10-04 05:30:00  2464.95     2387.25      0.032548\n",
      "124  ADANIENT 2023-10-05 05:30:00  2466.35     2464.95      0.000568\n",
      "174  ADANIENT 2023-10-06 05:30:00  2478.10     2466.35      0.004764\n",
      "224  ADANIENT 2023-10-09 05:30:00  2442.60     2478.10     -0.014325\n",
      "274  ADANIENT 2023-10-10 05:30:00  2498.30     2442.60      0.022804\n",
      "324  ADANIENT 2023-10-11 05:30:00  2488.60     2498.30     -0.003883\n",
      "374  ADANIENT 2023-10-12 05:30:00  2506.35     2488.60      0.007133\n",
      "424  ADANIENT 2023-10-13 05:30:00  2454.55     2506.35     -0.020668\n",
      "474  ADANIENT 2023-10-16 05:30:00  2429.35     2454.55     -0.010267\n"
     ]
    }
   ],
   "source": [
    "df['prev_close'] = df.groupby('Ticker')['close'].shift(1)\n",
    "df['daily_return'] = (df['close'] - df['prev_close']) / df['prev_close']\n",
    "print(df[['Ticker', 'date', 'close', 'prev_close', 'daily_return']].head(10))\n"
   ]
  },
  {
   "cell_type": "code",
   "execution_count": 4,
   "id": "3974694c",
   "metadata": {},
   "outputs": [
    {
     "name": "stdout",
     "output_type": "stream",
     "text": [
      "       Ticker  volatility\n",
      "0    ADANIENT    0.028601\n",
      "1  ADANIPORTS    0.026029\n",
      "2  APOLLOHOSP    0.014135\n",
      "3  ASIANPAINT    0.012665\n",
      "4    AXISBANK    0.015625\n"
     ]
    }
   ],
   "source": [
    "volatility = df.groupby('Ticker')['daily_return'].std().reset_index()  #index changing to column after groubby\n",
    "volatility.columns = ['Ticker', 'volatility']\n",
    "print(volatility.head())  #here ticker by ticker group by separate panni and then daily returns taking /and daily retuns std calcu\n"
   ]
  },
  {
   "cell_type": "code",
   "execution_count": 5,
   "id": "72c19f5d",
   "metadata": {},
   "outputs": [
    {
     "name": "stdout",
     "output_type": "stream",
     "text": [
      "        Ticker  volatility\n",
      "0     ADANIENT    0.028601\n",
      "1   ADANIPORTS    0.026029\n",
      "8          BEL    0.023283\n",
      "47       TRENT    0.023074\n",
      "34        ONGC    0.022247\n",
      "10        BPCL    0.022069\n",
      "39  SHRIRAMFIN    0.021687\n",
      "13   COALINDIA    0.021411\n",
      "21    HINDALCO    0.019587\n",
      "33        NTPC    0.019475\n"
     ]
    }
   ],
   "source": [
    "top_10_volatile = volatility.sort_values(by='volatility',ascending=False).head(10)\n",
    "print(top_10_volatile)"
   ]
  },
  {
   "cell_type": "code",
   "execution_count": 6,
   "id": "f17d6509",
   "metadata": {},
   "outputs": [
    {
     "name": "stderr",
     "output_type": "stream",
     "text": [
      "C:\\Users\\LENOVO\\AppData\\Local\\Temp\\ipykernel_7480\\119672352.py:8: FutureWarning: \n",
      "\n",
      "Passing `palette` without assigning `hue` is deprecated and will be removed in v0.14.0. Assign the `x` variable to `hue` and set `legend=False` for the same effect.\n",
      "\n",
      "  sns.barplot(x='Ticker', y='volatility', data=top_10_volatile, palette=\"magma\")\n"
     ]
    },
    {
     "data": {
      "image/png": "[encoded data removed]",
      "text/plain": [
       "<Figure size 640x480 with 1 Axes>"
      ]
     },
     "metadata": {},
     "output_type": "display_data"
    }
   ],
   "source": [
    "# Plotting\n",
    "\n",
    "import matplotlib.pyplot as plt\n",
    "\n",
    "import seaborn as sns\n",
    "\n",
    "size=(12, 6)\n",
    "sns.barplot(x='Ticker', y='volatility', data=top_10_volatile, palette=\"magma\")\n",
    "plt.title(\"Top 10 Most Volatile Stocks (Standard Deviation of Daily Returns)\")\n",
    "plt.xlabel(\"Stock Ticker\")\n",
    "plt.ylabel(\"Volatility (Std Dev)\")\n",
    "plt.xticks(rotation=45)\n",
    "plt.tight_layout()\n",
    "plt.show()\n"
   ]
  },
  {
   "cell_type": "code",
   "execution_count": 7,
   "id": "ce5e6bdf",
   "metadata": {},
   "outputs": [],
   "source": [
    "volatility.to_csv(\"volatility1.csv\", index=False)\n"
   ]
  },
  {
   "cell_type": "code",
   "execution_count": 8,
   "id": "c9bf8e76",
   "metadata": {},
   "outputs": [
    {
     "name": "stdout",
     "output_type": "stream",
     "text": [
      "CSV file saved successfully!\n"
     ]
    }
   ],
   "source": [
    "import os\n",
    "\n",
    "# Save as CSV\n",
    "output =r'C:\\Users\\LENOVO\\Desktop\\Newfolder\\project2\\output\\volatility.csv'\n",
    "df.to_csv(output, index=False)\n",
    "\n",
    "print(\"CSV file saved successfully!\")"
   ]
  }
 ],
 "metadata": {
  "kernelspec": {
   "display_name": "Python 3",
   "language": "python",
   "name": "python3"
  },
  "language_info": {
   "codemirror_mode": {
    "name": "ipython",
    "version": 3
   },
   "file_extension": ".py",
   "mimetype": "text/x-python",
   "name": "python",
   "nbconvert_exporter": "python",
   "pygments_lexer": "ipython3",
   "version": "3.12.8"
  }
 },
 "nbformat": 4,
 "nbformat_minor": 5
}
