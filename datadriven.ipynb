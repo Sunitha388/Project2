{
 "cells": [
  {
   "cell_type": "code",
   "execution_count": 1,
   "id": "fe6350d3",
   "metadata": {},
   "outputs": [
    {
     "name": "stdout",
     "output_type": "stream",
     "text": [
      "Requirement already satisfied: pandas in c:\\users\\lenovo\\appdata\\local\\programs\\python\\python312\\lib\\site-packages (2.2.3)\n",
      "Requirement already satisfied: pyyaml in c:\\users\\lenovo\\appdata\\local\\programs\\python\\python312\\lib\\site-packages (6.0.2)\n",
      "Requirement already satisfied: numpy>=1.26.0 in c:\\users\\lenovo\\appdata\\local\\programs\\python\\python312\\lib\\site-packages (from pandas) (2.2.4)\n",
      "Requirement already satisfied: python-dateutil>=2.8.2 in c:\\users\\lenovo\\appdata\\roaming\\python\\python312\\site-packages (from pandas) (2.9.0.post0)\n",
      "Requirement already satisfied: pytz>=2020.1 in c:\\users\\lenovo\\appdata\\local\\programs\\python\\python312\\lib\\site-packages (from pandas) (2025.1)\n",
      "Requirement already satisfied: tzdata>=2022.7 in c:\\users\\lenovo\\appdata\\local\\programs\\python\\python312\\lib\\site-packages (from pandas) (2025.1)\n",
      "Requirement already satisfied: six>=1.5 in c:\\users\\lenovo\\appdata\\roaming\\python\\python312\\site-packages (from python-dateutil>=2.8.2->pandas) (1.17.0)\n",
      "Note: you may need to restart the kernel to use updated packages.\n"
     ]
    },
    {
     "name": "stderr",
     "output_type": "stream",
     "text": [
      "\n",
      "[notice] A new release of pip is available: 24.3.1 -> 25.1.1\n",
      "[notice] To update, run: python.exe -m pip install --upgrade pip\n"
     ]
    }
   ],
   "source": [
    "pip install pandas pyyaml\n"
   ]
  },
  {
   "cell_type": "code",
   "execution_count": 2,
   "id": "09ef870f",
   "metadata": {},
   "outputs": [
    {
     "name": "stdout",
     "output_type": "stream",
     "text": [
      "Requirement already satisfied: pyyaml in c:\\users\\lenovo\\appdata\\local\\programs\\python\\python312\\lib\\site-packages (6.0.2)\n",
      "Note: you may need to restart the kernel to use updated packages.\n"
     ]
    },
    {
     "name": "stderr",
     "output_type": "stream",
     "text": [
      "\n",
      "[notice] A new release of pip is available: 24.3.1 -> 25.1.1\n",
      "[notice] To update, run: python.exe -m pip install --upgrade pip\n"
     ]
    }
   ],
   "source": [
    "pip install pyyaml"
   ]
  },
  {
   "cell_type": "code",
   "execution_count": 3,
   "id": "a7a85caa",
   "metadata": {},
   "outputs": [
    {
     "name": "stdout",
     "output_type": "stream",
     "text": [
      "No valid YAML data found.\n"
     ]
    }
   ],
   "source": [
    "import os\n",
    "import yaml\n",
    "import pandas as pd\n",
    "\n",
    "def yaml_to_dataframe(file_path):\n",
    "    \"\"\"\n",
    "    Reads a YAML file and converts it to a pandas DataFrame.\n",
    "    Each YAML file is expected to contain a list of dictionaries.\n",
    "    \"\"\"\n",
    "    with open(file_path, 'r') as file:\n",
    "        data = yaml.safe_load(file)\n",
    "    return pd.DataFrame(data)\n",
    "\n",
    "def load_all_yaml_files(base_folder):\n",
    "    \"\"\"\n",
    "    Traverses subdirectories of the base_folder and loads all YAML files into a combined DataFrame.\n",
    "    \"\"\"\n",
    "    dataframes = []\n",
    "\n",
    "    for root, dirs, files in os.walk(base_folder):\n",
    "        for file in files:\n",
    "            if file.endswith((\".yaml\", \".yml\")):\n",
    "                file_path = os.path.join(root, file)\n",
    "                df = yaml_to_dataframe(file_path)\n",
    "                dataframes.append(df)\n",
    "\n",
    "    return pd.concat(dataframes, ignore_index=True) if dataframes else pd.DataFrame()\n",
    "\n",
    "def save_combined_and_stockwise_csv(dataframe, output_dir):\n",
    "    \"\"\"\n",
    "    Saves the entire dataset as 'all_stocks.csv' and also saves individual CSVs per stock ticker.\n",
    "    \"\"\"\n",
    "    if not os.path.exists(output_dir):\n",
    "        os.makedirs(output_dir)\n",
    "\n",
    "    # Save the complete DataFrame\n",
    "    combined_path = os.path.join(output_dir, \"all_stocks.csv\")\n",
    "    dataframe.to_csv(combined_path, index=False)\n",
    "\n",
    "    # Save stock-wise CSVs\n",
    "    for ticker, group_df in dataframe.groupby('Ticker'):\n",
    "        file_name = f\"{ticker}.csv\"\n",
    "        ticker_path = os.path.join(output_dir, file_name)\n",
    "        group_df.to_csv(ticker_path, index=False)\n",
    "\n",
    "def main():\n",
    "    data_folder =r\"C:\\Users\\LENOVO\\Desktop\\project2\\data (1)\"\n",
    "    output_folder =r\"C:\\Users\\LENOVO\\Desktop\\project2\\output\"\n",
    "\n",
    "    combined_df = load_all_yaml_files(data_folder)\n",
    "\n",
    "    if not combined_df.empty:\n",
    "        save_combined_and_stockwise_csv(combined_df, output_folder)\n",
    "        print(\"CSV files saved successfully.\")\n",
    "    else:\n",
    "        print(\"No valid YAML data found.\")\n",
    "\n",
    "if __name__ == \"__main__\":\n",
    "    main()\n"
   ]
  },
  {
   "cell_type": "code",
   "execution_count": null,
   "id": "d01e7119",
   "metadata": {},
   "outputs": [],
   "source": []
  }
 ],
 "metadata": {
  "kernelspec": {
   "display_name": "Python 3",
   "language": "python",
   "name": "python3"
  },
  "language_info": {
   "codemirror_mode": {
    "name": "ipython",
    "version": 3
   },
   "file_extension": ".py",
   "mimetype": "text/x-python",
   "name": "python",
   "nbconvert_exporter": "python",
   "pygments_lexer": "ipython3",
   "version": "3.12.8"
  }
 },
 "nbformat": 4,
 "nbformat_minor": 5
}
